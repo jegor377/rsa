{
 "cells": [
  {
   "cell_type": "code",
   "execution_count": 18,
   "id": "c528dd4c-56aa-42f5-8665-ea33bfc19371",
   "metadata": {},
   "outputs": [],
   "source": [
    "import sympy\n",
    "import random\n",
    "import math"
   ]
  },
  {
   "cell_type": "code",
   "execution_count": 19,
   "id": "780eaee0-288c-4d60-9dd8-7414e3e807c6",
   "metadata": {},
   "outputs": [],
   "source": [
    "# szukaj liczby relatywnie pierwszej tak długo aż się uda.\n",
    "# ponieważ p * q daje ogromną liczbę przy założeniu, że p i q są liczbami 4-cyfrowymi\n",
    "# to znalezienie takiej liczby powinno być bardzo łatwe i szybkie\n",
    "def next_random_coprime_of(n):\n",
    "    if n == 0 or n == 1:\n",
    "        raise ValueError(\"Cannot find coprime of 0 or 1.\")\n",
    "    while True:\n",
    "        random_coprime = random.randint(1, n - 1)\n",
    "        while math.gcd(random_coprime, n) != 1 and random_coprime < n:\n",
    "            random_coprime += 1\n",
    "        if random_coprime != n:\n",
    "            return random_coprime"
   ]
  },
  {
   "cell_type": "code",
   "execution_count": 12,
   "id": "3f2bbae4-82b1-4641-8fdf-3ac06f19c549",
   "metadata": {},
   "outputs": [],
   "source": [
    "primes = sympy.primerange(1_000, 10_000)"
   ]
  },
  {
   "cell_type": "code",
   "execution_count": 13,
   "id": "8c3c0ec6-e0ab-40bc-a1f1-c6aa2765f2ea",
   "metadata": {},
   "outputs": [
    {
     "data": {
      "text/plain": [
       "(9133, 6257)"
      ]
     },
     "execution_count": 13,
     "metadata": {},
     "output_type": "execute_result"
    }
   ],
   "source": [
    "p, q = random.sample(list(primes), 2)\n",
    "(p, q)"
   ]
  },
  {
   "cell_type": "code",
   "execution_count": 16,
   "id": "956c2d01-dba7-4801-8896-4591ab3a2c4d",
   "metadata": {},
   "outputs": [
    {
     "data": {
      "text/plain": [
       "57145181"
      ]
     },
     "execution_count": 16,
     "metadata": {},
     "output_type": "execute_result"
    }
   ],
   "source": [
    "n = p * q\n",
    "n"
   ]
  },
  {
   "cell_type": "code",
   "execution_count": 17,
   "id": "6018d5ec-9102-475c-a8fa-53d83baff769",
   "metadata": {},
   "outputs": [
    {
     "data": {
      "text/plain": [
       "57129792"
      ]
     },
     "execution_count": 17,
     "metadata": {},
     "output_type": "execute_result"
    }
   ],
   "source": [
    "phi = (p - 1) * (q - 1)\n",
    "phi"
   ]
  },
  {
   "cell_type": "code",
   "execution_count": 21,
   "id": "beecbc0f-1c5e-4c97-a6b7-674576416ed6",
   "metadata": {},
   "outputs": [
    {
     "data": {
      "text/plain": [
       "21068203"
      ]
     },
     "execution_count": 21,
     "metadata": {},
     "output_type": "execute_result"
    }
   ],
   "source": [
    "e = next_random_coprime_of(phi)\n",
    "e"
   ]
  },
  {
   "cell_type": "code",
   "execution_count": 22,
   "id": "d2a0866e-cf61-4444-8015-8507abf60391",
   "metadata": {},
   "outputs": [
    {
     "data": {
      "text/plain": [
       "0"
      ]
     },
     "execution_count": 22,
     "metadata": {},
     "output_type": "execute_result"
    }
   ],
   "source": [
    "(7 * 463 - 1) % 540"
   ]
  },
  {
   "cell_type": "code",
   "execution_count": null,
   "id": "9fc34b2c-d779-4173-93df-2728b7f1f029",
   "metadata": {},
   "outputs": [],
   "source": []
  }
 ],
 "metadata": {
  "kernelspec": {
   "display_name": "Python 3 (ipykernel)",
   "language": "python",
   "name": "python3"
  },
  "language_info": {
   "codemirror_mode": {
    "name": "ipython",
    "version": 3
   },
   "file_extension": ".py",
   "mimetype": "text/x-python",
   "name": "python",
   "nbconvert_exporter": "python",
   "pygments_lexer": "ipython3",
   "version": "3.10.15"
  }
 },
 "nbformat": 4,
 "nbformat_minor": 5
}

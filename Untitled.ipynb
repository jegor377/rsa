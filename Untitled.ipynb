{
 "cells": [
  {
   "cell_type": "code",
   "execution_count": 1,
   "id": "c528dd4c-56aa-42f5-8665-ea33bfc19371",
   "metadata": {},
   "outputs": [],
   "source": [
    "import sympy\n",
    "import random\n",
    "import math\n",
    "import os"
   ]
  },
  {
   "cell_type": "code",
   "execution_count": 2,
   "id": "780eaee0-288c-4d60-9dd8-7414e3e807c6",
   "metadata": {},
   "outputs": [],
   "source": [
    "def next_coprime_of_phi(phi):\n",
    "    quick_coprimes = [65537, 17, 3]\n",
    "    for quick_coprime in quick_coprimes:\n",
    "        if math.gcd(quick_coprime, phi) == 1:\n",
    "            return quick_coprime\n",
    "    for i in range(quick_coprimes[0] + 1, phi):\n",
    "        if math.gcd(i, phi) == 1:\n",
    "            return i"
   ]
  },
  {
   "cell_type": "code",
   "execution_count": 3,
   "id": "3f2bbae4-82b1-4641-8fdf-3ac06f19c549",
   "metadata": {},
   "outputs": [],
   "source": [
    "primes = sympy.primerange(1_000, 10_000)"
   ]
  },
  {
   "cell_type": "code",
   "execution_count": 4,
   "id": "8c3c0ec6-e0ab-40bc-a1f1-c6aa2765f2ea",
   "metadata": {},
   "outputs": [
    {
     "data": {
      "text/plain": [
       "(9941, 3299)"
      ]
     },
     "execution_count": 4,
     "metadata": {},
     "output_type": "execute_result"
    }
   ],
   "source": [
    "p, q = random.sample(list(primes), 2)\n",
    "(p, q)"
   ]
  },
  {
   "cell_type": "code",
   "execution_count": 5,
   "id": "956c2d01-dba7-4801-8896-4591ab3a2c4d",
   "metadata": {},
   "outputs": [
    {
     "data": {
      "text/plain": [
       "32795359"
      ]
     },
     "execution_count": 5,
     "metadata": {},
     "output_type": "execute_result"
    }
   ],
   "source": [
    "n = p * q\n",
    "n"
   ]
  },
  {
   "cell_type": "code",
   "execution_count": 6,
   "id": "6018d5ec-9102-475c-a8fa-53d83baff769",
   "metadata": {},
   "outputs": [
    {
     "data": {
      "text/plain": [
       "32782120"
      ]
     },
     "execution_count": 6,
     "metadata": {},
     "output_type": "execute_result"
    }
   ],
   "source": [
    "phi = (p - 1) * (q - 1)\n",
    "phi"
   ]
  },
  {
   "cell_type": "code",
   "execution_count": 7,
   "id": "beecbc0f-1c5e-4c97-a6b7-674576416ed6",
   "metadata": {},
   "outputs": [
    {
     "data": {
      "text/plain": [
       "65537"
      ]
     },
     "execution_count": 7,
     "metadata": {},
     "output_type": "execute_result"
    }
   ],
   "source": [
    "e = next_coprime_of_phi(phi)\n",
    "e"
   ]
  },
  {
   "cell_type": "code",
   "execution_count": 8,
   "id": "47d065ed-72b4-41a5-a9a5-d07c4b8ecdb2",
   "metadata": {},
   "outputs": [
    {
     "name": "stdout",
     "output_type": "stream",
     "text": [
      "1\n"
     ]
    }
   ],
   "source": [
    "print(math.gcd(e, phi))"
   ]
  },
  {
   "cell_type": "code",
   "execution_count": 9,
   "id": "d2a0866e-cf61-4444-8015-8507abf60391",
   "metadata": {},
   "outputs": [
    {
     "data": {
      "text/plain": [
       "9081273"
      ]
     },
     "execution_count": 9,
     "metadata": {},
     "output_type": "execute_result"
    }
   ],
   "source": [
    "d = pow(e, -1, phi)\n",
    "d"
   ]
  },
  {
   "cell_type": "code",
   "execution_count": 10,
   "id": "6ab3761c-106f-495d-a13a-581dfa9da5fe",
   "metadata": {},
   "outputs": [
    {
     "name": "stdout",
     "output_type": "stream",
     "text": [
      "(65537, 32795359) (9081273, 32795359)\n"
     ]
    }
   ],
   "source": [
    "public_key = (e, n)\n",
    "private_key = (d, n)\n",
    "\n",
    "print(public_key, private_key)"
   ]
  },
  {
   "cell_type": "code",
   "execution_count": 11,
   "id": "41e5f0cd-611c-42f3-8a41-6d9a0e756c46",
   "metadata": {},
   "outputs": [],
   "source": [
    "def encrypt_msg(data, public_key):\n",
    "    e = public_key[0]\n",
    "    n = public_key[1]\n",
    "    return [pow(m, e, n) for m in data]"
   ]
  },
  {
   "cell_type": "code",
   "execution_count": 12,
   "id": "243c27b4-45fb-4a16-8ea2-797e3ae2de95",
   "metadata": {},
   "outputs": [],
   "source": [
    "def decrypt_msg(data, private_key):\n",
    "    d = private_key[0]\n",
    "    n = private_key[1]\n",
    "    return [pow(c, d, n) for c in data]"
   ]
  },
  {
   "cell_type": "code",
   "execution_count": 13,
   "id": "222a3fb9-eabd-41b8-81a9-2af76e6a650c",
   "metadata": {},
   "outputs": [
    {
     "name": "stdout",
     "output_type": "stream",
     "text": [
      "Oryginalna wiadomość (50): b'Protokol RSA pozwala szyfrowac wiadomosci kluczami'\n",
      "\n",
      "Zaszyfrowana wiadomość: [29249878, 7620220, 31960642, 25170771, 31960642, 11117139, 31960642, 3189360, 14428440, 23962621, 13008632, 24905216, 14428440, 14442737, 31960642, 7123008, 16844081, 5809883, 3189360, 5809883, 14428440, 8229591, 7123008, 18854285, 4961165, 7620220, 31960642, 16844081, 5809883, 24457326, 14428440, 16844081, 30516452, 5809883, 2160982, 31960642, 19163685, 31960642, 8229591, 24457326, 30516452, 14428440, 11117139, 3189360, 27090851, 24457326, 7123008, 5809883, 19163685, 30516452]\n",
      "\n",
      "Odszyfrowana wiadomość: b'Protokol RSA pozwala szyfrowac wiadomosci kluczami'\n",
      "\n"
     ]
    }
   ],
   "source": [
    "msg = b'Protokol RSA pozwala szyfrowac wiadomosci kluczami'\n",
    "print(f'Oryginalna wiadomość ({len(msg)}): {msg}\\n')\n",
    "encrypted_msg = encrypt_msg(msg, public_key)\n",
    "print(f'Zaszyfrowana wiadomość: {encrypted_msg}\\n')\n",
    "decrypted_msg = decrypt_msg(encrypted_msg, private_key)\n",
    "print(f'Odszyfrowana wiadomość: {bytes(decrypted_msg)}\\n')"
   ]
  },
  {
   "cell_type": "code",
   "execution_count": 14,
   "id": "e38d79da-ceed-443a-8e63-6f6f4d8dd045",
   "metadata": {},
   "outputs": [
    {
     "name": "stdout",
     "output_type": "stream",
     "text": [
      "Wiadomość oryginalna i zdeszyfrowana są identyczne\n"
     ]
    }
   ],
   "source": [
    "print(\"Wiadomość oryginalna i zdeszyfrowana są \" + (\"identyczne\" if msg == bytes(decrypted_msg) else \"różne\"))"
   ]
  },
  {
   "cell_type": "markdown",
   "id": "a4a03d63-b016-4212-ad6c-382a88abc06c",
   "metadata": {},
   "source": [
    "# Odpowiedzi na pytania\n",
    "\n",
    "## Jakie elementy algorytmu są trudne w realizacji?\n",
    "\n",
    "- znalezienie odpowiednio dużych liczb pierwszych p i q\n",
    "- obliczenia związane z dużymi liczbami (potęgowanie, obliczanie odwrotności)\n",
    "- obliczenie odwrotności modulo phi liczby e (trudno w ogóle zrozumieć jak to działa i dlaczego)\n",
    "\n",
    "## Co stanowi o bezpieczeństwie i jakości tego algorytmu szyfrowania?\n",
    "\n",
    "- trudność faktoryzacji dużych liczb pierwszych\n",
    "- odpowiednia długość kluczy\n",
    "- staranność w generowaniu liczb pierwszych i ich testowania (w przypadku metod propabilistycznych)\n",
    "- skuteczne zarządzanie kluczem prywatnym"
   ]
  },
  {
   "cell_type": "code",
   "execution_count": null,
   "id": "dd998670-4c7d-443b-86c0-1de3c9d88cb1",
   "metadata": {},
   "outputs": [],
   "source": []
  }
 ],
 "metadata": {
  "kernelspec": {
   "display_name": "Python 3 (ipykernel)",
   "language": "python",
   "name": "python3"
  },
  "language_info": {
   "codemirror_mode": {
    "name": "ipython",
    "version": 3
   },
   "file_extension": ".py",
   "mimetype": "text/x-python",
   "name": "python",
   "nbconvert_exporter": "python",
   "pygments_lexer": "ipython3",
   "version": "3.10.15"
  }
 },
 "nbformat": 4,
 "nbformat_minor": 5
}
